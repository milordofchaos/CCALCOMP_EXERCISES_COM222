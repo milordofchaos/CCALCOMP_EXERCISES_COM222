{
  "cells": [
    {
      "cell_type": "markdown",
      "metadata": {
        "id": "view-in-github",
        "colab_type": "text"
      },
      "source": [
        "<a href=\"https://colab.research.google.com/github/moridin04/CCALCOMP_EXERCISES_COM222/blob/main/exercise4.ipynb\" target=\"_parent\"><img src=\"https://colab.research.google.com/assets/colab-badge.svg\" alt=\"Open In Colab\"/></a>"
      ]
    },
    {
      "cell_type": "markdown",
      "metadata": {
        "id": "cPRRjBOhHHMh"
      },
      "source": [
        "# Exercise 4\n",
        "\n",
        "Please follow the instructions in each number."
      ]
    },
    {
      "cell_type": "markdown",
      "metadata": {
        "id": "zvDTNWRFHHMk"
      },
      "source": [
        "### Activity Selection Problem\n",
        "\n",
        "Given a set of activities, along with the starting and finishing time of each activity, find the maximum number of activities performed by a single person assuming that a person can only work on a single activity at a time.\n",
        "\n",
        "For example,\n",
        "\n",
        "Input: Following set of activities (1, 4), (3, 5), (0, 6), (5, 7), (3, 8), (5, 9), (6, 10), (8, 11), (8, 12), (2, 13), (12, 14)  \n",
        "\n",
        "Output: (1, 4), (5, 7), (8, 11), (12, 14)"
      ]
    },
    {
      "cell_type": "markdown",
      "metadata": {
        "id": "ff7w7YLGHHMl"
      },
      "source": [
        "## Tasks"
      ]
    },
    {
      "cell_type": "markdown",
      "metadata": {
        "id": "0QLHdoNSHHMl"
      },
      "source": [
        "1. Write a program using a recursive greedy approach to get the maximum number of activities (`50 points`)"
      ]
    },
    {
      "cell_type": "code",
      "execution_count": 5,
      "metadata": {
        "vscode": {
          "languageId": "plaintext"
        },
        "id": "Xe02cHvAHHMl",
        "outputId": "97ea2aea-a20d-44b7-e4d2-a42c96bc4e9a",
        "colab": {
          "base_uri": "https://localhost:8080/"
        }
      },
      "outputs": [
        {
          "output_type": "stream",
          "name": "stdout",
          "text": [
            "( 1 , 4 )\n",
            "( 5 , 7 )\n",
            "( 8 , 11 )\n",
            "( 12 , 14 )\n"
          ]
        }
      ],
      "source": [
        "def actSelect(act, s, n, f):\n",
        "    if s >= n:\n",
        "        return []\n",
        "    for i in range(s, n):\n",
        "        if act[i][0] >= f:\n",
        "            return [act[i]] + actSelect(act, i + 1, n, act[i][1])\n",
        "    return []\n",
        "\n",
        "def maxActNum(arr):\n",
        "    arr.sort(key=lambda x: x[1])\n",
        "    n = len(arr)\n",
        "    selectedActs = actSelect(arr, 0, n, 0)\n",
        "    for act in selectedActs:\n",
        "        print(\"(\", act[0], \",\", act[1], \")\")\n",
        "\n",
        "if __name__ == '__main__':\n",
        "    arr = [[1, 4],\n",
        "           [3, 5],\n",
        "           [0, 6],\n",
        "           [5, 7],\n",
        "           [3, 8],\n",
        "           [5, 9],\n",
        "           [6, 10],\n",
        "           [8, 11],\n",
        "           [8, 12],\n",
        "           [2, 13],\n",
        "           [12, 14]]\n",
        "    maxActNum(arr)\n"
      ]
    },
    {
      "cell_type": "markdown",
      "metadata": {
        "id": "eZe27u4LHHMn"
      },
      "source": [
        "2. Write a program using a iterative greedy approach to get the maximun number of activities (`50 points`)"
      ]
    },
    {
      "cell_type": "code",
      "execution_count": 4,
      "metadata": {
        "vscode": {
          "languageId": "plaintext"
        },
        "id": "UrSZyQwEHHMn",
        "outputId": "1f6a5459-0236-455b-8a68-c85dcc547e6a",
        "colab": {
          "base_uri": "https://localhost:8080/"
        }
      },
      "outputs": [
        {
          "output_type": "stream",
          "name": "stdout",
          "text": [
            "( 1 , 4 )\n",
            "( 5 , 7 )\n",
            "( 8 , 11 )\n",
            "( 12 , 14 )\n"
          ]
        }
      ],
      "source": [
        "def maxActNum(arr, n):\n",
        "    arr.sort(key=lambda x: x[1])\n",
        "    i = 0\n",
        "    print(\"(\", arr[i][0], \",\", arr[i][1], \")\")\n",
        "\n",
        "    for j in range(1, n):\n",
        "        if arr[j][0] >= arr[i][1]:\n",
        "            print(\"(\", arr[j][0], \",\", arr[j][1], \")\")\n",
        "            i = j\n",
        "\n",
        "if __name__ == '__main__':\n",
        "    arr = [[1, 4],\n",
        "    [3, 5],\n",
        "    [0, 6],\n",
        "    [5, 7],\n",
        "    [3, 8],\n",
        "    [5, 9],\n",
        "    [6, 10],\n",
        "    [8, 11],\n",
        "    [8, 12],\n",
        "    [2, 13],\n",
        "    [12, 14]]\n",
        "    n = len(arr)\n",
        "    maxActNum(arr, n)"
      ]
    }
  ],
  "metadata": {
    "colab": {
      "provenance": [],
      "include_colab_link": true
    },
    "kernelspec": {
      "display_name": "base",
      "language": "python",
      "name": "python3"
    },
    "language_info": {
      "codemirror_mode": {
        "name": "ipython",
        "version": 3
      },
      "file_extension": ".py",
      "mimetype": "text/x-python",
      "name": "python",
      "nbconvert_exporter": "python",
      "pygments_lexer": "ipython3",
      "version": "3.9.6"
    }
  },
  "nbformat": 4,
  "nbformat_minor": 0
}